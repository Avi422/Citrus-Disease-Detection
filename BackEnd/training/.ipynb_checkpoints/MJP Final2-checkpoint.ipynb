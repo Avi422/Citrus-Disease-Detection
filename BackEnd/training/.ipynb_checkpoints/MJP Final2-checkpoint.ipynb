{
 "cells": [
  {
   "cell_type": "code",
   "execution_count": 1,
   "id": "50b117a3-d769-43b8-aa00-3665d60a07b4",
   "metadata": {
    "executionInfo": {
     "elapsed": 355,
     "status": "ok",
     "timestamp": 1711124563149,
     "user": {
      "displayName": "Avi Singh",
      "userId": "16457266492913206058"
     },
     "user_tz": -330
    },
    "id": "50b117a3-d769-43b8-aa00-3665d60a07b4"
   },
   "outputs": [],
   "source": [
    "import tensorflow as tf\n",
    "from tensorflow.keras import models, layers\n",
    "import matplotlib.pyplot as plt"
   ]
  },
  {
   "cell_type": "code",
   "execution_count": 2,
   "id": "318bd5fa-e98f-47b3-a33b-5f427907b948",
   "metadata": {
    "executionInfo": {
     "elapsed": 489,
     "status": "ok",
     "timestamp": 1711124564225,
     "user": {
      "displayName": "Avi Singh",
      "userId": "16457266492913206058"
     },
     "user_tz": -330
    },
    "id": "318bd5fa-e98f-47b3-a33b-5f427907b948"
   },
   "outputs": [],
   "source": [
    "IMAGE_SIZE = 800\n",
    "BATCH_SIZE = 32\n",
    "CHANNELS = 3\n",
    "EPOCHS = 50"
   ]
  },
  {
   "cell_type": "code",
   "execution_count": 3,
   "id": "SAv7X_0BLUIm",
   "metadata": {
    "colab": {
     "base_uri": "https://localhost:8080/"
    },
    "executionInfo": {
     "elapsed": 3324,
     "status": "ok",
     "timestamp": 1711124567546,
     "user": {
      "displayName": "Avi Singh",
      "userId": "16457266492913206058"
     },
     "user_tz": -330
    },
    "id": "SAv7X_0BLUIm",
    "outputId": "cddda97a-9fd9-4f19-f2eb-8b4f2aed6f67"
   },
   "outputs": [
    {
     "ename": "ModuleNotFoundError",
     "evalue": "No module named 'google.colab'",
     "output_type": "error",
     "traceback": [
      "\u001b[1;31m---------------------------------------------------------------------------\u001b[0m",
      "\u001b[1;31mModuleNotFoundError\u001b[0m                       Traceback (most recent call last)",
      "Cell \u001b[1;32mIn[3], line 1\u001b[0m\n\u001b[1;32m----> 1\u001b[0m \u001b[38;5;28;01mfrom\u001b[39;00m \u001b[38;5;21;01mgoogle\u001b[39;00m\u001b[38;5;21;01m.\u001b[39;00m\u001b[38;5;21;01mcolab\u001b[39;00m \u001b[38;5;28;01mimport\u001b[39;00m drive\n\u001b[0;32m      3\u001b[0m \u001b[38;5;28;01mtry\u001b[39;00m:\n\u001b[0;32m      4\u001b[0m     drive\u001b[38;5;241m.\u001b[39mmount(\u001b[38;5;124m'\u001b[39m\u001b[38;5;124m/content/drive/\u001b[39m\u001b[38;5;124m'\u001b[39m)\n",
      "\u001b[1;31mModuleNotFoundError\u001b[0m: No module named 'google.colab'"
     ]
    }
   ],
   "source": [
    "from google.colab import drive\n",
    "\n",
    "try:\n",
    "    drive.mount('/content/drive/')\n",
    "except Exception as e:\n",
    "    print(f\"Drive Mount Error: {e}\")"
   ]
  },
  {
   "cell_type": "code",
   "execution_count": null,
   "id": "g8lqvXf791Np",
   "metadata": {
    "colab": {
     "base_uri": "https://localhost:8080/"
    },
    "executionInfo": {
     "elapsed": 9,
     "status": "ok",
     "timestamp": 1711124567546,
     "user": {
      "displayName": "Avi Singh",
      "userId": "16457266492913206058"
     },
     "user_tz": -330
    },
    "id": "g8lqvXf791Np",
    "outputId": "b787ca71-af81-4dd5-b63e-556bcf5f89aa"
   },
   "outputs": [],
   "source": [
    "!ls '/content/drive/My Drive/'"
   ]
  },
  {
   "cell_type": "code",
   "execution_count": null,
   "id": "oHBY5GAyLhZW",
   "metadata": {
    "executionInfo": {
     "elapsed": 6,
     "status": "ok",
     "timestamp": 1711124567546,
     "user": {
      "displayName": "Avi Singh",
      "userId": "16457266492913206058"
     },
     "user_tz": -330
    },
    "id": "oHBY5GAyLhZW"
   },
   "outputs": [],
   "source": [
    "dataset_path = '/content/drive/My Drive/Major project/'"
   ]
  },
  {
   "cell_type": "code",
   "execution_count": null,
   "id": "8Pc2zpczNSgV",
   "metadata": {
    "colab": {
     "base_uri": "https://localhost:8080/"
    },
    "executionInfo": {
     "elapsed": 5112,
     "status": "ok",
     "timestamp": 1711124572652,
     "user": {
      "displayName": "Avi Singh",
      "userId": "16457266492913206058"
     },
     "user_tz": -330
    },
    "id": "8Pc2zpczNSgV",
    "outputId": "9da35134-60a0-420e-bb7a-570149102c28"
   },
   "outputs": [],
   "source": [
    "from google.colab import drive\n",
    "drive.flush_and_unmount()\n",
    "drive.mount('/content/drive')"
   ]
  },
  {
   "cell_type": "code",
   "execution_count": null,
   "id": "9hYTpF8eNSxo",
   "metadata": {
    "colab": {
     "base_uri": "https://localhost:8080/"
    },
    "executionInfo": {
     "elapsed": 10,
     "status": "ok",
     "timestamp": 1711124572653,
     "user": {
      "displayName": "Avi Singh",
      "userId": "16457266492913206058"
     },
     "user_tz": -330
    },
    "id": "9hYTpF8eNSxo",
    "outputId": "0bafda85-ee71-488e-de60-3e4b75a5012d"
   },
   "outputs": [],
   "source": [
    "import os\n",
    "\n",
    "# Check the contents of the current directory in your Google Drive\n",
    "!ls '/content/drive/My Drive/Major project/'\n",
    "\n",
    "# Navigate through the directory structure to confirm the existence of 'Dataset/dataset'\n",
    "!ls '/content/drive/My Drive/Major project/'\n",
    "\n",
    "# If the directory exists, use the absolute path in your code\n",
    "dataset_path = '/content/drive/My Drive/Major project/'\n"
   ]
  },
  {
   "cell_type": "code",
   "execution_count": null,
   "id": "f763af32-1d93-42ba-ad78-3b6677565a72",
   "metadata": {
    "colab": {
     "base_uri": "https://localhost:8080/"
    },
    "executionInfo": {
     "elapsed": 1190,
     "status": "ok",
     "timestamp": 1711124573837,
     "user": {
      "displayName": "Avi Singh",
      "userId": "16457266492913206058"
     },
     "user_tz": -330
    },
    "id": "f763af32-1d93-42ba-ad78-3b6677565a72",
    "outputId": "ae0b5c98-f3cc-4ff8-fed5-6fbf84b07ea1"
   },
   "outputs": [],
   "source": [
    "IMAGE_SIZE = (128, 128)  # Define image size as a tuple with height and width\n",
    "\n",
    "# Creating the dataset\n",
    "dataset = tf.keras.preprocessing.image_dataset_from_directory('/content/drive/My Drive/Major project/',\n",
    "    shuffle=True,\n",
    "    image_size=IMAGE_SIZE,\n",
    "    batch_size=BATCH_SIZE\n",
    ")\n",
    "\n"
   ]
  },
  {
   "cell_type": "code",
   "execution_count": null,
   "id": "2bd18a52-0bd7-48e2-8f0e-02ab156c42b6",
   "metadata": {
    "colab": {
     "base_uri": "https://localhost:8080/"
    },
    "executionInfo": {
     "elapsed": 11,
     "status": "ok",
     "timestamp": 1711124573838,
     "user": {
      "displayName": "Avi Singh",
      "userId": "16457266492913206058"
     },
     "user_tz": -330
    },
    "id": "2bd18a52-0bd7-48e2-8f0e-02ab156c42b6",
    "outputId": "fe749865-9683-4f75-9136-5008304cf426"
   },
   "outputs": [],
   "source": [
    "class_names = dataset.class_names\n",
    "class_names"
   ]
  },
  {
   "cell_type": "code",
   "execution_count": null,
   "id": "ba89409c-64b7-4168-a8ef-bdf8fc7dd4cb",
   "metadata": {
    "colab": {
     "base_uri": "https://localhost:8080/"
    },
    "executionInfo": {
     "elapsed": 8,
     "status": "ok",
     "timestamp": 1711124573838,
     "user": {
      "displayName": "Avi Singh",
      "userId": "16457266492913206058"
     },
     "user_tz": -330
    },
    "id": "ba89409c-64b7-4168-a8ef-bdf8fc7dd4cb",
    "outputId": "60c8c9c6-e652-4897-be0c-bc62f4d2ac13"
   },
   "outputs": [],
   "source": [
    "len(dataset)"
   ]
  },
  {
   "cell_type": "code",
   "execution_count": null,
   "id": "99fd3d37-0096-4df1-af57-6789ff88aff1",
   "metadata": {
    "colab": {
     "base_uri": "https://localhost:8080/",
     "height": 771
    },
    "executionInfo": {
     "elapsed": 102482,
     "status": "ok",
     "timestamp": 1711124676314,
     "user": {
      "displayName": "Avi Singh",
      "userId": "16457266492913206058"
     },
     "user_tz": -330
    },
    "id": "99fd3d37-0096-4df1-af57-6789ff88aff1",
    "outputId": "2e338807-b6e5-423e-c718-a6477070d170"
   },
   "outputs": [],
   "source": [
    "plt.figure(figsize=(10, 10))\n",
    "for image_batch, label_batch in dataset.take(1):\n",
    "    for i in range(12):\n",
    "       ax = plt.subplot(3,4,i+1)\n",
    "       plt.imshow(image_batch[i].numpy().astype(\"uint8\"))\n",
    "       plt.title(class_names[label_batch[i]])\n",
    "       plt.axis(\"off\")"
   ]
  },
  {
   "cell_type": "code",
   "execution_count": null,
   "id": "52287ed9-8ee4-4c88-9182-9879d56755b2",
   "metadata": {
    "colab": {
     "base_uri": "https://localhost:8080/"
    },
    "executionInfo": {
     "elapsed": 22,
     "status": "ok",
     "timestamp": 1711124676314,
     "user": {
      "displayName": "Avi Singh",
      "userId": "16457266492913206058"
     },
     "user_tz": -330
    },
    "id": "52287ed9-8ee4-4c88-9182-9879d56755b2",
    "outputId": "02d8da7e-2fdc-4a4b-8b64-d67ee119b2b1"
   },
   "outputs": [],
   "source": [
    "len(dataset)"
   ]
  },
  {
   "cell_type": "code",
   "execution_count": null,
   "id": "4bba0518-14c3-449d-a457-db28f250409f",
   "metadata": {
    "executionInfo": {
     "elapsed": 19,
     "status": "ok",
     "timestamp": 1711124676314,
     "user": {
      "displayName": "Avi Singh",
      "userId": "16457266492913206058"
     },
     "user_tz": -330
    },
    "id": "4bba0518-14c3-449d-a457-db28f250409f"
   },
   "outputs": [],
   "source": [
    "##80% ==> training\n",
    "##20% ==> 10% validation, 10% test"
   ]
  },
  {
   "cell_type": "code",
   "execution_count": null,
   "id": "24813d37-ef6e-49e8-b96e-d66495fc12b4",
   "metadata": {
    "colab": {
     "base_uri": "https://localhost:8080/"
    },
    "executionInfo": {
     "elapsed": 19,
     "status": "ok",
     "timestamp": 1711124676314,
     "user": {
      "displayName": "Avi Singh",
      "userId": "16457266492913206058"
     },
     "user_tz": -330
    },
    "id": "24813d37-ef6e-49e8-b96e-d66495fc12b4",
    "outputId": "243e560b-b9a2-49d5-d8bf-672520cd5e9b"
   },
   "outputs": [],
   "source": [
    "train_size = 0.8\n",
    "len(dataset)*train_size"
   ]
  },
  {
   "cell_type": "code",
   "execution_count": null,
   "id": "0bcbfc10-b266-4630-a396-f1cb6577cb25",
   "metadata": {
    "colab": {
     "base_uri": "https://localhost:8080/"
    },
    "executionInfo": {
     "elapsed": 17,
     "status": "ok",
     "timestamp": 1711124676314,
     "user": {
      "displayName": "Avi Singh",
      "userId": "16457266492913206058"
     },
     "user_tz": -330
    },
    "id": "0bcbfc10-b266-4630-a396-f1cb6577cb25",
    "outputId": "74dab50f-14f7-49e5-ccdf-f6f6e0645b7e"
   },
   "outputs": [],
   "source": [
    "train_ds= dataset.take(10)\n",
    "len(train_ds)"
   ]
  },
  {
   "cell_type": "code",
   "execution_count": null,
   "id": "adac1a9b-4ad4-40f7-906e-fc0e46a424ea",
   "metadata": {
    "colab": {
     "base_uri": "https://localhost:8080/"
    },
    "executionInfo": {
     "elapsed": 16,
     "status": "ok",
     "timestamp": 1711124676314,
     "user": {
      "displayName": "Avi Singh",
      "userId": "16457266492913206058"
     },
     "user_tz": -330
    },
    "id": "adac1a9b-4ad4-40f7-906e-fc0e46a424ea",
    "outputId": "380c9e1e-86f5-4ea9-8ba7-6e5d3959ef45"
   },
   "outputs": [],
   "source": [
    "test_ds = dataset.skip(10)\n",
    "len(test_ds)"
   ]
  },
  {
   "cell_type": "code",
   "execution_count": null,
   "id": "9eda5788-5b06-478e-a9d5-9b8a85db103f",
   "metadata": {
    "colab": {
     "base_uri": "https://localhost:8080/"
    },
    "executionInfo": {
     "elapsed": 14,
     "status": "ok",
     "timestamp": 1711124676314,
     "user": {
      "displayName": "Avi Singh",
      "userId": "16457266492913206058"
     },
     "user_tz": -330
    },
    "id": "9eda5788-5b06-478e-a9d5-9b8a85db103f",
    "outputId": "62d88981-2da0-402f-da75-14c53047f63b"
   },
   "outputs": [],
   "source": [
    "val_size=0.1\n",
    "len(dataset)*val_size"
   ]
  },
  {
   "cell_type": "code",
   "execution_count": null,
   "id": "846aa67f-c6d6-4603-9655-e2a0c24a4db1",
   "metadata": {
    "colab": {
     "base_uri": "https://localhost:8080/"
    },
    "executionInfo": {
     "elapsed": 956,
     "status": "ok",
     "timestamp": 1711124677258,
     "user": {
      "displayName": "Avi Singh",
      "userId": "16457266492913206058"
     },
     "user_tz": -330
    },
    "id": "846aa67f-c6d6-4603-9655-e2a0c24a4db1",
    "outputId": "8bae6216-b8f7-4351-bf0c-5bdf24c9e431"
   },
   "outputs": [],
   "source": [
    "val_ds= test_ds.take(7)\n",
    "len(test_ds)"
   ]
  },
  {
   "cell_type": "code",
   "execution_count": null,
   "id": "4de51741-4079-41ec-a602-7b936c47891d",
   "metadata": {
    "colab": {
     "base_uri": "https://localhost:8080/"
    },
    "executionInfo": {
     "elapsed": 30,
     "status": "ok",
     "timestamp": 1711124677258,
     "user": {
      "displayName": "Avi Singh",
      "userId": "16457266492913206058"
     },
     "user_tz": -330
    },
    "id": "4de51741-4079-41ec-a602-7b936c47891d",
    "outputId": "3559e89c-8050-4fe9-c21a-e6518569ce35"
   },
   "outputs": [],
   "source": [
    "test_ds = dataset.skip(3)\n",
    "len(test_ds)"
   ]
  },
  {
   "cell_type": "code",
   "execution_count": null,
   "id": "9b79b93a-2907-4251-9029-7bf8b2616018",
   "metadata": {
    "executionInfo": {
     "elapsed": 29,
     "status": "ok",
     "timestamp": 1711124677259,
     "user": {
      "displayName": "Avi Singh",
      "userId": "16457266492913206058"
     },
     "user_tz": -330
    },
    "id": "9b79b93a-2907-4251-9029-7bf8b2616018"
   },
   "outputs": [],
   "source": [
    "def get_dataset_partitions_tf(ds, train_split=0.8, val_split=0.1, test_split = 0.1, shuffle=True, shuffle_size=1000):\n",
    "    ds_size = len(ds)\n",
    "\n",
    "    if shuffle:\n",
    "        ds = ds.shuffle(shuffle_size,seed=12)\n",
    "\n",
    "    train_size = int(train_split * ds_size)\n",
    "    val_size = int(val_split * ds_size)\n",
    "\n",
    "    train_ds = ds.take(train_size)\n",
    "\n",
    "    val_ds = ds.skip(train_size).take(val_size)\n",
    "    test_ds = ds.skip(train_size).skip(val_size)\n",
    "\n",
    "    return train_ds, val_ds, test_ds"
   ]
  },
  {
   "cell_type": "code",
   "execution_count": null,
   "id": "91d6dd16-11b7-418c-9811-96bbd1137065",
   "metadata": {
    "executionInfo": {
     "elapsed": 28,
     "status": "ok",
     "timestamp": 1711124677259,
     "user": {
      "displayName": "Avi Singh",
      "userId": "16457266492913206058"
     },
     "user_tz": -330
    },
    "id": "91d6dd16-11b7-418c-9811-96bbd1137065"
   },
   "outputs": [],
   "source": [
    "train_ds, val_ds, test_ds = get_dataset_partitions_tf(dataset)"
   ]
  },
  {
   "cell_type": "code",
   "execution_count": null,
   "id": "7371c4a5-9813-4e1e-8951-7a77971b3160",
   "metadata": {
    "colab": {
     "base_uri": "https://localhost:8080/"
    },
    "executionInfo": {
     "elapsed": 28,
     "status": "ok",
     "timestamp": 1711124677259,
     "user": {
      "displayName": "Avi Singh",
      "userId": "16457266492913206058"
     },
     "user_tz": -330
    },
    "id": "7371c4a5-9813-4e1e-8951-7a77971b3160",
    "outputId": "70e47341-6b7f-47a5-a2f2-f8f6c2b6b465"
   },
   "outputs": [],
   "source": [
    "len(train_ds)"
   ]
  },
  {
   "cell_type": "code",
   "execution_count": null,
   "id": "cadf801d-2dea-4c8f-b308-27dcd052bc88",
   "metadata": {
    "colab": {
     "base_uri": "https://localhost:8080/"
    },
    "executionInfo": {
     "elapsed": 27,
     "status": "ok",
     "timestamp": 1711124677259,
     "user": {
      "displayName": "Avi Singh",
      "userId": "16457266492913206058"
     },
     "user_tz": -330
    },
    "id": "cadf801d-2dea-4c8f-b308-27dcd052bc88",
    "outputId": "e9e21e08-382b-4d06-bab9-b44c10541292"
   },
   "outputs": [],
   "source": [
    "len(val_ds)"
   ]
  },
  {
   "cell_type": "code",
   "execution_count": null,
   "id": "5c03e041-f482-43da-9b28-e043564a3ec5",
   "metadata": {
    "colab": {
     "base_uri": "https://localhost:8080/"
    },
    "executionInfo": {
     "elapsed": 25,
     "status": "ok",
     "timestamp": 1711124677259,
     "user": {
      "displayName": "Avi Singh",
      "userId": "16457266492913206058"
     },
     "user_tz": -330
    },
    "id": "5c03e041-f482-43da-9b28-e043564a3ec5",
    "outputId": "6e4163ae-2049-479f-ad9c-898ef32a93bb"
   },
   "outputs": [],
   "source": [
    "len(test_ds)"
   ]
  },
  {
   "cell_type": "code",
   "execution_count": null,
   "id": "87122c2a-209a-44e7-8628-6e161ff79469",
   "metadata": {
    "executionInfo": {
     "elapsed": 24,
     "status": "ok",
     "timestamp": 1711124677259,
     "user": {
      "displayName": "Avi Singh",
      "userId": "16457266492913206058"
     },
     "user_tz": -330
    },
    "id": "87122c2a-209a-44e7-8628-6e161ff79469"
   },
   "outputs": [],
   "source": [
    "train_ds = train_ds.cache().shuffle(1000).prefetch(buffer_size=tf.data.AUTOTUNE)\n",
    "val_ds = val_ds.cache().shuffle(1000).prefetch(buffer_size=tf.data.AUTOTUNE)\n",
    "test_ds = test_ds.cache().shuffle(1000).prefetch(buffer_size=tf.data.AUTOTUNE)"
   ]
  },
  {
   "cell_type": "code",
   "execution_count": null,
   "id": "ed29ec4c-6d4d-4e91-ae8e-a48f01d84b89",
   "metadata": {
    "executionInfo": {
     "elapsed": 23,
     "status": "ok",
     "timestamp": 1711124677259,
     "user": {
      "displayName": "Avi Singh",
      "userId": "16457266492913206058"
     },
     "user_tz": -330
    },
    "id": "ed29ec4c-6d4d-4e91-ae8e-a48f01d84b89"
   },
   "outputs": [],
   "source": [
    "resize_and_rescale = tf.keras.Sequential([\n",
    "    layers.experimental.preprocessing.Resizing(IMAGE_SIZE, IMAGE_SIZE),\n",
    "    layers.experimental.preprocessing.Rescaling(1.0/255)\n",
    "    ])"
   ]
  },
  {
   "cell_type": "code",
   "execution_count": null,
   "id": "430fc982-fb18-4ee7-b48b-f261b204a9c2",
   "metadata": {
    "executionInfo": {
     "elapsed": 23,
     "status": "ok",
     "timestamp": 1711124677259,
     "user": {
      "displayName": "Avi Singh",
      "userId": "16457266492913206058"
     },
     "user_tz": -330
    },
    "id": "430fc982-fb18-4ee7-b48b-f261b204a9c2"
   },
   "outputs": [],
   "source": [
    "data_augmentation= tf.keras.Sequential([\n",
    "    layers.experimental.preprocessing.RandomFlip(\"horizontal_and_vertical\"),\n",
    "    layers.experimental.preprocessing.RandomRotation(0.2)\n",
    "])"
   ]
  },
  {
   "cell_type": "code",
   "execution_count": null,
   "id": "a3060d93-a591-44ce-8037-cf283f178df6",
   "metadata": {
    "colab": {
     "base_uri": "https://localhost:8080/"
    },
    "executionInfo": {
     "elapsed": 23,
     "status": "ok",
     "timestamp": 1711124677259,
     "user": {
      "displayName": "Avi Singh",
      "userId": "16457266492913206058"
     },
     "user_tz": -330
    },
    "id": "a3060d93-a591-44ce-8037-cf283f178df6",
    "outputId": "2054887e-4db9-40b5-87f9-fab3052cf453"
   },
   "outputs": [],
   "source": [
    "from tensorflow.keras import layers, models\n",
    "\n",
    "input_shape = (128, 128, 3)  # Adjusted input shape assuming 128x128 RGB images\n",
    "n_classes = 5\n",
    "\n",
    "model = models.Sequential([\n",
    "    layers.Conv2D(32, (3, 3), activation='relu', padding='same', input_shape=input_shape),\n",
    "    layers.MaxPooling2D((2, 2)),\n",
    "    layers.Conv2D(64, kernel_size=(3, 3), activation='relu', padding='same'),\n",
    "    layers.MaxPooling2D((2, 2)),\n",
    "    layers.Conv2D(128, kernel_size=(3, 3), activation='relu', padding='same'),  # Additional Conv2D layer\n",
    "    layers.MaxPooling2D((2, 2)),\n",
    "    layers.Conv2D(128, kernel_size=(3, 3), activation='relu', padding='same'),  # Additional Conv2D layer\n",
    "    layers.MaxPooling2D((2, 2)),\n",
    "    layers.Flatten(),\n",
    "    layers.Dense(128, activation='relu'),  # Additional Dense layer\n",
    "    layers.Dense(64, activation='relu'),\n",
    "    layers.Dense(n_classes, activation='sigmoid')\n",
    "])\n",
    "\n",
    "# Compile the model\n",
    "model.compile(optimizer='adam', loss='binary_crossentropy', metrics=['accuracy'])\n",
    "\n",
    "# Display model summary\n",
    "model.summary()\n"
   ]
  },
  {
   "cell_type": "code",
   "execution_count": null,
   "id": "151fef07-89da-422b-a205-b05d0d21f08a",
   "metadata": {
    "colab": {
     "base_uri": "https://localhost:8080/"
    },
    "executionInfo": {
     "elapsed": 16,
     "status": "ok",
     "timestamp": 1711124677259,
     "user": {
      "displayName": "Avi Singh",
      "userId": "16457266492913206058"
     },
     "user_tz": -330
    },
    "id": "151fef07-89da-422b-a205-b05d0d21f08a",
    "outputId": "d0d5454f-37be-4213-a3b0-be4c1430b675"
   },
   "outputs": [],
   "source": [
    "model.summary()"
   ]
  },
  {
   "cell_type": "code",
   "execution_count": null,
   "id": "ecc65ef8-4e2f-44fd-8946-c800bced6a50",
   "metadata": {
    "executionInfo": {
     "elapsed": 9,
     "status": "ok",
     "timestamp": 1711124677259,
     "user": {
      "displayName": "Avi Singh",
      "userId": "16457266492913206058"
     },
     "user_tz": -330
    },
    "id": "ecc65ef8-4e2f-44fd-8946-c800bced6a50"
   },
   "outputs": [],
   "source": [
    "model.compile(\n",
    "    optimizer= 'adam',\n",
    "    loss=tf.keras.losses.SparseCategoricalCrossentropy(from_logits=False),\n",
    "    metrics=['accuracy']\n",
    ")"
   ]
  },
  {
   "cell_type": "code",
   "execution_count": null,
   "id": "99e01fcb-2cde-48e7-bf10-a159af2be1b4",
   "metadata": {
    "colab": {
     "base_uri": "https://localhost:8080/",
     "height": 373
    },
    "executionInfo": {
     "elapsed": 389845,
     "status": "error",
     "timestamp": 1711125093536,
     "user": {
      "displayName": "Avi Singh",
      "userId": "16457266492913206058"
     },
     "user_tz": -330
    },
    "id": "99e01fcb-2cde-48e7-bf10-a159af2be1b4",
    "outputId": "89f07208-85d0-4e30-c56f-c72d3a38d416"
   },
   "outputs": [],
   "source": [
    "history = model.fit(\n",
    "    train_ds,\n",
    "    epochs=EPOCHS,\n",
    "    batch_size=BATCH_SIZE,\n",
    "    verbose=2,\n",
    "    validation_data=val_ds\n",
    ")"
   ]
  },
  {
   "cell_type": "code",
   "execution_count": null,
   "id": "kKrJMo1qEvLt",
   "metadata": {
    "executionInfo": {
     "elapsed": 2,
     "status": "aborted",
     "timestamp": 1711125093537,
     "user": {
      "displayName": "Avi Singh",
      "userId": "16457266492913206058"
     },
     "user_tz": -330
    },
    "id": "kKrJMo1qEvLt"
   },
   "outputs": [],
   "source": [
    "# Define your RL exploration function\n",
    "def explore_exploit(model, dataset, epsilon=0.1):\n",
    "    for images, labels in dataset:\n",
    "        batch_size = len(images)\n",
    "        for i in range(batch_size):\n",
    "            if np.random.rand() < epsilon:\n",
    "                # Explore: Randomly choose an action (in this case, select a random image)\n",
    "                rand_index = np.random.randint(0, batch_size)\n",
    "                image = images[rand_index]\n",
    "            else:\n",
    "                # Exploit: Use the model to predict and choose the best action (image)\n",
    "                predictions = model.predict(images)\n",
    "                image = images[np.argmax(predictions)]\n",
    "\n",
    "            # Train the model on the selected image\n",
    "            model.train_on_batch(np.expand_dims(image, axis=0), np.array([labels[i]]))"
   ]
  },
  {
   "cell_type": "code",
   "execution_count": null,
   "id": "56e2579a-af6c-41a9-a242-202c84e031bd",
   "metadata": {
    "executionInfo": {
     "elapsed": 2,
     "status": "aborted",
     "timestamp": 1711125093538,
     "user": {
      "displayName": "Avi Singh",
      "userId": "16457266492913206058"
     },
     "user_tz": -330
    },
    "id": "56e2579a-af6c-41a9-a242-202c84e031bd"
   },
   "outputs": [],
   "source": [
    "scores = model.evaluate(test_ds)"
   ]
  },
  {
   "cell_type": "code",
   "execution_count": null,
   "id": "165348a3-627a-497e-a58b-79a51d53a36a",
   "metadata": {
    "executionInfo": {
     "elapsed": 3,
     "status": "aborted",
     "timestamp": 1711125093539,
     "user": {
      "displayName": "Avi Singh",
      "userId": "16457266492913206058"
     },
     "user_tz": -330
    },
    "id": "165348a3-627a-497e-a58b-79a51d53a36a"
   },
   "outputs": [],
   "source": [
    "scores"
   ]
  },
  {
   "cell_type": "code",
   "execution_count": null,
   "id": "f3b3dae1-8eec-4a7f-9761-f2d36e7f6556",
   "metadata": {
    "executionInfo": {
     "elapsed": 4,
     "status": "aborted",
     "timestamp": 1711125093540,
     "user": {
      "displayName": "Avi Singh",
      "userId": "16457266492913206058"
     },
     "user_tz": -330
    },
    "id": "f3b3dae1-8eec-4a7f-9761-f2d36e7f6556"
   },
   "outputs": [],
   "source": [
    "history"
   ]
  },
  {
   "cell_type": "code",
   "execution_count": null,
   "id": "e1736d37-e2e8-48a3-b7e8-d7b540a8f4e8",
   "metadata": {
    "executionInfo": {
     "elapsed": 4,
     "status": "aborted",
     "timestamp": 1711125093540,
     "user": {
      "displayName": "Avi Singh",
      "userId": "16457266492913206058"
     },
     "user_tz": -330
    },
    "id": "e1736d37-e2e8-48a3-b7e8-d7b540a8f4e8"
   },
   "outputs": [],
   "source": [
    "history.params"
   ]
  },
  {
   "cell_type": "code",
   "execution_count": null,
   "id": "a13b9360-0ac8-4f25-a7df-d31a768c5546",
   "metadata": {
    "executionInfo": {
     "elapsed": 5,
     "status": "aborted",
     "timestamp": 1711125093541,
     "user": {
      "displayName": "Avi Singh",
      "userId": "16457266492913206058"
     },
     "user_tz": -330
    },
    "id": "a13b9360-0ac8-4f25-a7df-d31a768c5546"
   },
   "outputs": [],
   "source": [
    "history.history.keys()"
   ]
  },
  {
   "cell_type": "code",
   "execution_count": null,
   "id": "aee2d9e2-25fa-49de-9203-0de01e3eb50a",
   "metadata": {
    "executionInfo": {
     "elapsed": 6,
     "status": "aborted",
     "timestamp": 1711125093542,
     "user": {
      "displayName": "Avi Singh",
      "userId": "16457266492913206058"
     },
     "user_tz": -330
    },
    "id": "aee2d9e2-25fa-49de-9203-0de01e3eb50a"
   },
   "outputs": [],
   "source": [
    "history.history['accuracy']"
   ]
  },
  {
   "cell_type": "code",
   "execution_count": null,
   "id": "wFBPvAlTE726",
   "metadata": {
    "executionInfo": {
     "elapsed": 6,
     "status": "aborted",
     "timestamp": 1711125093542,
     "user": {
      "displayName": "Avi Singh",
      "userId": "16457266492913206058"
     },
     "user_tz": -330
    },
    "id": "wFBPvAlTE726"
   },
   "outputs": [],
   "source": [
    "# Evaluate the model's performance after RL\n",
    "test_accuracy = model.evaluate(test_ds)[1]  # Assuming accuracy is at index 1\n",
    "\n",
    "print(\"Test Accuracy after RL:\", test_accuracy)"
   ]
  },
  {
   "cell_type": "code",
   "execution_count": null,
   "id": "1de44672-1838-408e-b289-b5257c82be3b",
   "metadata": {
    "executionInfo": {
     "elapsed": 7,
     "status": "aborted",
     "timestamp": 1711125093543,
     "user": {
      "displayName": "Avi Singh",
      "userId": "16457266492913206058"
     },
     "user_tz": -330
    },
    "id": "1de44672-1838-408e-b289-b5257c82be3b"
   },
   "outputs": [],
   "source": [
    "acc = history.history['accuracy']\n",
    "val_acc = history.history['val_accuracy']\n",
    "\n",
    "loss = history.history['loss']\n",
    "val_loss = history.history['val_loss']"
   ]
  },
  {
   "cell_type": "code",
   "execution_count": null,
   "id": "BNe_qJjNyWUz",
   "metadata": {
    "executionInfo": {
     "elapsed": 7,
     "status": "aborted",
     "timestamp": 1711125093543,
     "user": {
      "displayName": "Avi Singh",
      "userId": "16457266492913206058"
     },
     "user_tz": -330
    },
    "id": "BNe_qJjNyWUz"
   },
   "outputs": [],
   "source": [
    "import matplotlib.pyplot as plt\n",
    "\n",
    "plt.figure(figsize=(12, 6))\n",
    "\n",
    "# Subplot 1 (top left)\n",
    "plt.subplot(1, 2, 1)\n",
    "plt.plot(range(EPOCHS), acc, label='Training Accuracy')\n",
    "plt.plot(range(EPOCHS), val_acc, label='Validation Accuracy')\n",
    "plt.legend(loc='lower right')\n",
    "plt.title('Training and Validation Accuracy')\n",
    "\n",
    "# Subplot 2 (top right)\n",
    "plt.subplot(1, 2, 2)\n",
    "plt.plot(range(EPOCHS), loss, label='Training Loss')\n",
    "plt.plot(range(EPOCHS), val_loss, label='Validation Loss')\n",
    "plt.legend(loc='upper right')\n",
    "plt.title('Training and Validation Loss')\n",
    "\n",
    "plt.tight_layout()  # Adjusts subplot parameters to fit the figure area properly\n",
    "plt.show()\n"
   ]
  },
  {
   "cell_type": "code",
   "execution_count": null,
   "id": "W3IMapPry0Dy",
   "metadata": {
    "executionInfo": {
     "elapsed": 8,
     "status": "aborted",
     "timestamp": 1711125093544,
     "user": {
      "displayName": "Avi Singh",
      "userId": "16457266492913206058"
     },
     "user_tz": -330
    },
    "id": "W3IMapPry0Dy"
   },
   "outputs": [],
   "source": [
    "import matplotlib.pyplot as plt\n",
    "import numpy as np\n",
    "\n",
    "# Assuming 'class_names' is a list of class labels\n",
    "\n",
    "for images_batch, labels_batch in test_ds.take(1):\n",
    "    first_image = images_batch[0].numpy().astype('uint8')  # Fix typo 'uint9' to 'uint8'\n",
    "    first_label = labels_batch[0].numpy()\n",
    "\n",
    "    print(\"First image to predict\")\n",
    "    plt.imshow(first_image)\n",
    "    plt.title(\"First image\")\n",
    "    plt.show()\n",
    "\n",
    "    print(\"First image's actual label:\", class_names[first_label])\n",
    "\n",
    "    batch_prediction = model.predict(images_batch)\n",
    "    predicted_label = np.argmax(batch_prediction[0])\n",
    "    print(\"Predicted label:\", class_names[predicted_label])\n"
   ]
  },
  {
   "cell_type": "code",
   "execution_count": null,
   "id": "b6AKf1yBvqVI",
   "metadata": {
    "executionInfo": {
     "elapsed": 9,
     "status": "aborted",
     "timestamp": 1711125093545,
     "user": {
      "displayName": "Avi Singh",
      "userId": "16457266492913206058"
     },
     "user_tz": -330
    },
    "id": "b6AKf1yBvqVI"
   },
   "outputs": [],
   "source": [
    "def predict(model, img):\n",
    "    img_array = tf.keras.preprocessing.image.img_to_array(images[i].numpy())\n",
    "    img_array = tf.expand_dims(img_array,0) # Create a batch\n",
    "\n",
    "    predictions = model.predict(img_array)\n",
    "\n",
    "    predicted_class = class_names[np.argmax(predictions[0])]\n",
    "    confidence = round(100 * (np.max(predictions[0])), 2)\n",
    "    return predicted_class, confidence"
   ]
  },
  {
   "cell_type": "code",
   "execution_count": null,
   "id": "k616p2GCzEHE",
   "metadata": {
    "executionInfo": {
     "elapsed": 9,
     "status": "aborted",
     "timestamp": 1711125093545,
     "user": {
      "displayName": "Avi Singh",
      "userId": "16457266492913206058"
     },
     "user_tz": -330
    },
    "id": "k616p2GCzEHE"
   },
   "outputs": [],
   "source": [
    "plt.figure(figsize=(15, 15))\n",
    "for images, labels in test_ds.take(1):\n",
    "    for i in range(9):\n",
    "        ax = plt.subplot(3, 3, i + 1)\n",
    "        plt.imshow(images[i].numpy().astype(\"uint8\"))\n",
    "\n",
    "        predicted_class, confidence = predict(model, images[i].numpy())\n",
    "        actual_class = class_names[labels[i]]\n",
    "\n",
    "        plt.title(f\"Actual: {actual_class},\\nPredicted: {predicted_class}.\\nConfidence: {confidence:.2f}%\")\n",
    "\n",
    "        plt.axis(\"off\")\n",
    "\n",
    "plt.tight_layout()\n",
    "plt.show()\n"
   ]
  },
  {
   "cell_type": "code",
   "execution_count": null,
   "id": "v_geFzaq-8Kn",
   "metadata": {
    "executionInfo": {
     "elapsed": 9,
     "status": "aborted",
     "timestamp": 1711125093545,
     "user": {
      "displayName": "Avi Singh",
      "userId": "16457266492913206058"
     },
     "user_tz": -330
    },
    "id": "v_geFzaq-8Kn"
   },
   "outputs": [],
   "source": [
    "import matplotlib.pyplot as plt\n",
    "\n",
    "# Example data (replace these with your actual data)\n",
    "epochs = range(50)  # Assuming 50 epochs\n",
    "\n",
    "# Example accuracy and loss values for demonstration (replace these with your actual data)\n",
    "train_accuracy = [0.5, 0.6, 0.7, 0.75, 0.8, 0.85, 0.9, 0.92, 0.93, 0.94,\n",
    "                  0.945, 0.95, 0.952, 0.955, 0.957, 0.959, 0.961, 0.963,\n",
    "                  0.965, 0.966, 0.967, 0.968, 0.969, 0.97, 0.971, 0.972,\n",
    "                  0.973, 0.974, 0.975, 0.976, 0.977, 0.978, 0.979, 0.98,\n",
    "                  0.981, 0.982, 0.983, 0.984, 0.985, 0.986, 0.987, 0.988,\n",
    "                  0.989, 0.99, 0.991, 0.992, 0.993, 0.994, 0.995, 0.996]  # Training accuracy values for each epoch (should have 50 elements)\n",
    "\n",
    "val_accuracy = [0.4, 0.55, 0.65, 0.7, 0.72, 0.74, 0.75, 0.76, 0.77, 0.775,\n",
    "                0.78, 0.782, 0.784, 0.786, 0.788, 0.79, 0.791, 0.792,\n",
    "                0.793, 0.794, 0.795, 0.796, 0.797, 0.798, 0.799, 0.8,\n",
    "                0.801, 0.802, 0.803, 0.804, 0.805, 0.806, 0.807, 0.808,\n",
    "                0.809, 0.81, 0.811, 0.812, 0.813, 0.814, 0.815, 0.816,\n",
    "                0.817, 0.818, 0.819, 0.82, 0.821, 0.822, 0.823, 0.824,\n",
    "                0.825, 0.826]  # Validation accuracy values for each epoch (should have 50 elements)\n",
    "\n",
    "train_loss = [1.2, 0.9, 0.7, 0.6, 0.55, 0.52, 0.5, 0.48, 0.45, 0.43,\n",
    "              0.42, 0.41, 0.4, 0.39, 0.38, 0.37, 0.36, 0.35, 0.34,\n",
    "              0.33, 0.32, 0.31, 0.3, 0.29, 0.28, 0.27, 0.26, 0.25,\n",
    "              0.24, 0.23, 0.22, 0.21, 0.2, 0.19, 0.18, 0.17, 0.16,\n",
    "              0.15, 0.14, 0.13, 0.12, 0.11, 0.1, 0.09, 0.08, 0.07,\n",
    "              0.06, 0.05, 0.04, 0.03, 0.02, 0.01]  # Training loss values for each epoch (should have 50 elements)\n",
    "\n",
    "val_loss = [1.5, 1.0, 0.8, 0.7, 0.65, 0.62, 0.6, 0.58, 0.55, 0.53,\n",
    "            0.52, 0.51, 0.5, 0.49, 0.48, 0.47, 0.46, 0.45, 0.44,\n",
    "            0.43, 0.42, 0.41, 0.4, 0.39, 0.38, 0.37, 0.36, 0.35,\n",
    "            0.34, 0.33, 0.32, 0.31, 0.3, 0.29, 0.28, 0.27, 0.26,\n",
    "            0.25, 0.24, 0.23, 0.22, 0.21, 0.2, 0.19, 0.18, 0.17,\n",
    "            0.16]\n"
   ]
  },
  {
   "cell_type": "code",
   "execution_count": null,
   "id": "004ccb17-669f-4374-a087-d5f57d829faa",
   "metadata": {
    "executionInfo": {
     "elapsed": 9,
     "status": "aborted",
     "timestamp": 1711125093545,
     "user": {
      "displayName": "Avi Singh",
      "userId": "16457266492913206058"
     },
     "user_tz": -330
    },
    "id": "004ccb17-669f-4374-a087-d5f57d829faa"
   },
   "outputs": [],
   "source": [
    "import matplotlib.pyplot as plt\n",
    "import numpy as np\n",
    "\n",
    "for images_batch, labels_batch in test_ds.take(1):\n",
    "    first_image = images_batch[0].numpy().astype('uint8')  # Corrected the typo in 'uint8'\n",
    "    first_label = labels_batch[0].numpy()\n",
    "\n",
    "    print(\"First image to predict:\")\n",
    "    plt.imshow(first_image)\n",
    "    plt.show()\n",
    "    print(\"First image's actual label:\", class_names[first_label])\n",
    "\n",
    "    batch_prediction = model.predict(images_batch)\n",
    "    print(\"Predicted label:\", class_names[np.argmax(batch_prediction[0])])\n"
   ]
  },
  {
   "cell_type": "code",
   "execution_count": null,
   "id": "dca6324b-814f-49c4-be48-30e21bd9f00c",
   "metadata": {
    "executionInfo": {
     "elapsed": 10,
     "status": "aborted",
     "timestamp": 1711125093546,
     "user": {
      "displayName": "Avi Singh",
      "userId": "16457266492913206058"
     },
     "user_tz": -330
    },
    "id": "dca6324b-814f-49c4-be48-30e21bd9f00c"
   },
   "outputs": [],
   "source": [
    "def predict(model, img):\n",
    "    img_array = tf.keras.preprocessing.image.img_to_array(images[i].numpy())\n",
    "    img_array = tf.expand_dims(img_array,0) # Create a batch\n",
    "\n",
    "    predictions = model.predict(img_array)\n",
    "\n",
    "    predicted_class = class_names[np.argmax(predictions[0])]\n",
    "    confidence = round(100 * (np.max(predictions[0])), 2)\n",
    "    return predicted_class, confidence"
   ]
  },
  {
   "cell_type": "code",
   "execution_count": null,
   "id": "3eb9d718-53ac-4f68-ac21-c5b4b1657dfe",
   "metadata": {
    "executionInfo": {
     "elapsed": 10,
     "status": "aborted",
     "timestamp": 1711125093546,
     "user": {
      "displayName": "Avi Singh",
      "userId": "16457266492913206058"
     },
     "user_tz": -330
    },
    "id": "3eb9d718-53ac-4f68-ac21-c5b4b1657dfe"
   },
   "outputs": [],
   "source": [
    "model_version=1\n",
    "model.save(f\"../models/{model_version}\")"
   ]
  },
  {
   "cell_type": "code",
   "execution_count": null,
   "id": "66a12fcd-396c-47ac-b9be-bf9912dbe6f9",
   "metadata": {
    "executionInfo": {
     "elapsed": 10,
     "status": "aborted",
     "timestamp": 1711125093546,
     "user": {
      "displayName": "Avi Singh",
      "userId": "16457266492913206058"
     },
     "user_tz": -330
    },
    "id": "66a12fcd-396c-47ac-b9be-bf9912dbe6f9"
   },
   "outputs": [],
   "source": [
    "#string to imnteger\n",
    "import os\n",
    "model_version=max([int(i) for i in os.listdir(\"../models\") + [0]]) + 1\n",
    "model.save(f\"../models/{model_version}\")"
   ]
  }
 ],
 "metadata": {
  "colab": {
   "provenance": [
    {
     "file_id": "149f9PHSznscps2HdLDlEge0qKs2YW48h",
     "timestamp": 1711123449965
    }
   ]
  },
  "kernelspec": {
   "display_name": "Python 3 (ipykernel)",
   "language": "python",
   "name": "python3"
  },
  "language_info": {
   "codemirror_mode": {
    "name": "ipython",
    "version": 3
   },
   "file_extension": ".py",
   "mimetype": "text/x-python",
   "name": "python",
   "nbconvert_exporter": "python",
   "pygments_lexer": "ipython3",
   "version": "3.10.13"
  }
 },
 "nbformat": 4,
 "nbformat_minor": 5
}
