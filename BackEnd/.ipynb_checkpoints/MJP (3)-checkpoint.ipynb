{
 "cells": [
  {
   "cell_type": "code",
   "execution_count": 1,
   "id": "50b117a3-d769-43b8-aa00-3665d60a07b4",
   "metadata": {
    "id": "50b117a3-d769-43b8-aa00-3665d60a07b4"
   },
   "outputs": [],
   "source": [
    "import tensorflow as tf\n",
    "from tensorflow.keras import models, layers\n",
    "import matplotlib.pyplot as plt"
   ]
  },
  {
   "cell_type": "code",
   "execution_count": 2,
   "id": "318bd5fa-e98f-47b3-a33b-5f427907b948",
   "metadata": {
    "id": "318bd5fa-e98f-47b3-a33b-5f427907b948"
   },
   "outputs": [],
   "source": [
    "IMAGE_SIZE = 800\n",
    "BATCH_SIZE = 32\n",
    "CHANNELS = 3\n",
    "EPOCHS = 10"
   ]
  },
  {
   "cell_type": "code",
   "execution_count": 3,
   "id": "6__6fKZF9xyW",
   "metadata": {
    "id": "6__6fKZF9xyW"
   },
   "outputs": [
    {
     "ename": "NotFoundError",
     "evalue": "Could not find directory Citrusvillage",
     "output_type": "error",
     "traceback": [
      "\u001b[1;31m---------------------------------------------------------------------------\u001b[0m",
      "\u001b[1;31mNotFoundError\u001b[0m                             Traceback (most recent call last)",
      "Cell \u001b[1;32mIn[3], line 1\u001b[0m\n\u001b[1;32m----> 1\u001b[0m dataset \u001b[38;5;241m=\u001b[39m \u001b[43mtf\u001b[49m\u001b[38;5;241;43m.\u001b[39;49m\u001b[43mkeras\u001b[49m\u001b[38;5;241;43m.\u001b[39;49m\u001b[43mpreprocessing\u001b[49m\u001b[38;5;241;43m.\u001b[39;49m\u001b[43mimage_dataset_from_directory\u001b[49m\u001b[43m(\u001b[49m\n\u001b[0;32m      2\u001b[0m \u001b[43m    \u001b[49m\u001b[38;5;124;43m\"\u001b[39;49m\u001b[38;5;124;43mCitrusvillage\u001b[39;49m\u001b[38;5;124;43m\"\u001b[39;49m\u001b[43m,\u001b[49m\n\u001b[0;32m      3\u001b[0m \u001b[43m    \u001b[49m\u001b[43mshuffle\u001b[49m\u001b[43m \u001b[49m\u001b[38;5;241;43m=\u001b[39;49m\u001b[43m \u001b[49m\u001b[38;5;28;43;01mTrue\u001b[39;49;00m\u001b[43m,\u001b[49m\n\u001b[0;32m      4\u001b[0m \u001b[43m    \u001b[49m\u001b[43mimage_size\u001b[49m\u001b[43m \u001b[49m\u001b[38;5;241;43m=\u001b[39;49m\u001b[43m  \u001b[49m\u001b[43m(\u001b[49m\u001b[43mIMAGE_SIZE\u001b[49m\u001b[43m,\u001b[49m\u001b[43m \u001b[49m\u001b[43mIMAGE_SIZE\u001b[49m\u001b[43m)\u001b[49m\u001b[43m,\u001b[49m\n\u001b[0;32m      5\u001b[0m \u001b[43m    \u001b[49m\u001b[43mbatch_size\u001b[49m\u001b[43m \u001b[49m\u001b[38;5;241;43m=\u001b[39;49m\u001b[43m \u001b[49m\u001b[43mBATCH_SIZE\u001b[49m\n\u001b[0;32m      6\u001b[0m \u001b[43m)\u001b[49m\n",
      "File \u001b[1;32m~\\anaconda3\\envs\\tensorflowgpu\\lib\\site-packages\\keras\\utils\\image_dataset.py:207\u001b[0m, in \u001b[0;36mimage_dataset_from_directory\u001b[1;34m(directory, labels, label_mode, class_names, color_mode, batch_size, image_size, shuffle, seed, validation_split, subset, interpolation, follow_links, crop_to_aspect_ratio, **kwargs)\u001b[0m\n\u001b[0;32m    205\u001b[0m \u001b[38;5;28;01mif\u001b[39;00m seed \u001b[38;5;129;01mis\u001b[39;00m \u001b[38;5;28;01mNone\u001b[39;00m:\n\u001b[0;32m    206\u001b[0m     seed \u001b[38;5;241m=\u001b[39m np\u001b[38;5;241m.\u001b[39mrandom\u001b[38;5;241m.\u001b[39mrandint(\u001b[38;5;241m1e6\u001b[39m)\n\u001b[1;32m--> 207\u001b[0m image_paths, labels, class_names \u001b[38;5;241m=\u001b[39m \u001b[43mdataset_utils\u001b[49m\u001b[38;5;241;43m.\u001b[39;49m\u001b[43mindex_directory\u001b[49m\u001b[43m(\u001b[49m\n\u001b[0;32m    208\u001b[0m \u001b[43m    \u001b[49m\u001b[43mdirectory\u001b[49m\u001b[43m,\u001b[49m\n\u001b[0;32m    209\u001b[0m \u001b[43m    \u001b[49m\u001b[43mlabels\u001b[49m\u001b[43m,\u001b[49m\n\u001b[0;32m    210\u001b[0m \u001b[43m    \u001b[49m\u001b[43mformats\u001b[49m\u001b[38;5;241;43m=\u001b[39;49m\u001b[43mALLOWLIST_FORMATS\u001b[49m\u001b[43m,\u001b[49m\n\u001b[0;32m    211\u001b[0m \u001b[43m    \u001b[49m\u001b[43mclass_names\u001b[49m\u001b[38;5;241;43m=\u001b[39;49m\u001b[43mclass_names\u001b[49m\u001b[43m,\u001b[49m\n\u001b[0;32m    212\u001b[0m \u001b[43m    \u001b[49m\u001b[43mshuffle\u001b[49m\u001b[38;5;241;43m=\u001b[39;49m\u001b[43mshuffle\u001b[49m\u001b[43m,\u001b[49m\n\u001b[0;32m    213\u001b[0m \u001b[43m    \u001b[49m\u001b[43mseed\u001b[49m\u001b[38;5;241;43m=\u001b[39;49m\u001b[43mseed\u001b[49m\u001b[43m,\u001b[49m\n\u001b[0;32m    214\u001b[0m \u001b[43m    \u001b[49m\u001b[43mfollow_links\u001b[49m\u001b[38;5;241;43m=\u001b[39;49m\u001b[43mfollow_links\u001b[49m\u001b[43m,\u001b[49m\n\u001b[0;32m    215\u001b[0m \u001b[43m\u001b[49m\u001b[43m)\u001b[49m\n\u001b[0;32m    217\u001b[0m \u001b[38;5;28;01mif\u001b[39;00m label_mode \u001b[38;5;241m==\u001b[39m \u001b[38;5;124m\"\u001b[39m\u001b[38;5;124mbinary\u001b[39m\u001b[38;5;124m\"\u001b[39m \u001b[38;5;129;01mand\u001b[39;00m \u001b[38;5;28mlen\u001b[39m(class_names) \u001b[38;5;241m!=\u001b[39m \u001b[38;5;241m2\u001b[39m:\n\u001b[0;32m    218\u001b[0m     \u001b[38;5;28;01mraise\u001b[39;00m \u001b[38;5;167;01mValueError\u001b[39;00m(\n\u001b[0;32m    219\u001b[0m         \u001b[38;5;124mf\u001b[39m\u001b[38;5;124m'\u001b[39m\u001b[38;5;124mWhen passing `label_mode=\u001b[39m\u001b[38;5;124m\"\u001b[39m\u001b[38;5;124mbinary\u001b[39m\u001b[38;5;124m\"\u001b[39m\u001b[38;5;124m`, there must be exactly 2 \u001b[39m\u001b[38;5;124m'\u001b[39m\n\u001b[0;32m    220\u001b[0m         \u001b[38;5;124mf\u001b[39m\u001b[38;5;124m\"\u001b[39m\u001b[38;5;124mclass_names. Received: class_names=\u001b[39m\u001b[38;5;132;01m{\u001b[39;00mclass_names\u001b[38;5;132;01m}\u001b[39;00m\u001b[38;5;124m\"\u001b[39m\n\u001b[0;32m    221\u001b[0m     )\n",
      "File \u001b[1;32m~\\anaconda3\\envs\\tensorflowgpu\\lib\\site-packages\\keras\\utils\\dataset_utils.py:524\u001b[0m, in \u001b[0;36mindex_directory\u001b[1;34m(directory, labels, formats, class_names, shuffle, seed, follow_links)\u001b[0m\n\u001b[0;32m    522\u001b[0m \u001b[38;5;28;01melse\u001b[39;00m:\n\u001b[0;32m    523\u001b[0m     subdirs \u001b[38;5;241m=\u001b[39m []\n\u001b[1;32m--> 524\u001b[0m     \u001b[38;5;28;01mfor\u001b[39;00m subdir \u001b[38;5;129;01min\u001b[39;00m \u001b[38;5;28msorted\u001b[39m(\u001b[43mtf\u001b[49m\u001b[38;5;241;43m.\u001b[39;49m\u001b[43mio\u001b[49m\u001b[38;5;241;43m.\u001b[39;49m\u001b[43mgfile\u001b[49m\u001b[38;5;241;43m.\u001b[39;49m\u001b[43mlistdir\u001b[49m\u001b[43m(\u001b[49m\u001b[43mdirectory\u001b[49m\u001b[43m)\u001b[49m):\n\u001b[0;32m    525\u001b[0m         \u001b[38;5;28;01mif\u001b[39;00m tf\u001b[38;5;241m.\u001b[39mio\u001b[38;5;241m.\u001b[39mgfile\u001b[38;5;241m.\u001b[39misdir(tf\u001b[38;5;241m.\u001b[39mio\u001b[38;5;241m.\u001b[39mgfile\u001b[38;5;241m.\u001b[39mjoin(directory, subdir)):\n\u001b[0;32m    526\u001b[0m             \u001b[38;5;28;01mif\u001b[39;00m subdir\u001b[38;5;241m.\u001b[39mendswith(\u001b[38;5;124m\"\u001b[39m\u001b[38;5;124m/\u001b[39m\u001b[38;5;124m\"\u001b[39m):\n",
      "File \u001b[1;32m~\\anaconda3\\envs\\tensorflowgpu\\lib\\site-packages\\tensorflow\\python\\lib\\io\\file_io.py:766\u001b[0m, in \u001b[0;36mlist_directory_v2\u001b[1;34m(path)\u001b[0m\n\u001b[0;32m    751\u001b[0m \u001b[38;5;250m\u001b[39m\u001b[38;5;124;03m\"\"\"Returns a list of entries contained within a directory.\u001b[39;00m\n\u001b[0;32m    752\u001b[0m \n\u001b[0;32m    753\u001b[0m \u001b[38;5;124;03mThe list is in arbitrary order. It does not contain the special entries \".\"\u001b[39;00m\n\u001b[1;32m   (...)\u001b[0m\n\u001b[0;32m    763\u001b[0m \u001b[38;5;124;03m  errors.NotFoundError if directory doesn't exist\u001b[39;00m\n\u001b[0;32m    764\u001b[0m \u001b[38;5;124;03m\"\"\"\u001b[39;00m\n\u001b[0;32m    765\u001b[0m \u001b[38;5;28;01mif\u001b[39;00m \u001b[38;5;129;01mnot\u001b[39;00m is_directory(path):\n\u001b[1;32m--> 766\u001b[0m   \u001b[38;5;28;01mraise\u001b[39;00m errors\u001b[38;5;241m.\u001b[39mNotFoundError(\n\u001b[0;32m    767\u001b[0m       node_def\u001b[38;5;241m=\u001b[39m\u001b[38;5;28;01mNone\u001b[39;00m,\n\u001b[0;32m    768\u001b[0m       op\u001b[38;5;241m=\u001b[39m\u001b[38;5;28;01mNone\u001b[39;00m,\n\u001b[0;32m    769\u001b[0m       message\u001b[38;5;241m=\u001b[39m\u001b[38;5;124m\"\u001b[39m\u001b[38;5;124mCould not find directory \u001b[39m\u001b[38;5;132;01m{}\u001b[39;00m\u001b[38;5;124m\"\u001b[39m\u001b[38;5;241m.\u001b[39mformat(path))\n\u001b[0;32m    771\u001b[0m \u001b[38;5;66;03m# Convert each element to string, since the return values of the\u001b[39;00m\n\u001b[0;32m    772\u001b[0m \u001b[38;5;66;03m# vector of string should be interpreted as strings, not bytes.\u001b[39;00m\n\u001b[0;32m    773\u001b[0m \u001b[38;5;28;01mreturn\u001b[39;00m [\n\u001b[0;32m    774\u001b[0m     compat\u001b[38;5;241m.\u001b[39mas_str_any(filename)\n\u001b[0;32m    775\u001b[0m     \u001b[38;5;28;01mfor\u001b[39;00m filename \u001b[38;5;129;01min\u001b[39;00m _pywrap_file_io\u001b[38;5;241m.\u001b[39mGetChildren(compat\u001b[38;5;241m.\u001b[39mpath_to_bytes(path))\n\u001b[0;32m    776\u001b[0m ]\n",
      "\u001b[1;31mNotFoundError\u001b[0m: Could not find directory Citrusvillage"
     ]
    }
   ],
   "source": [
    "dataset = tf.keras.preprocessing.image_dataset_from_directory(\n",
    "    \"Citrusvillage\",\n",
    "    shuffle = True,\n",
    "    image_size =  (IMAGE_SIZE, IMAGE_SIZE),\n",
    "    batch_size = BATCH_SIZE\n",
    ")  ##load data using tensor flow api"
   ]
  },
  {
   "cell_type": "code",
   "execution_count": null,
   "id": "2bd18a52-0bd7-48e2-8f0e-02ab156c42b6",
   "metadata": {
    "colab": {
     "base_uri": "https://localhost:8080/"
    },
    "id": "2bd18a52-0bd7-48e2-8f0e-02ab156c42b6",
    "outputId": "6c674594-fbfd-426b-8a6e-622096aae92e"
   },
   "outputs": [],
   "source": [
    "class_names = dataset.class_names\n",
    "class_names"
   ]
  },
  {
   "cell_type": "code",
   "execution_count": null,
   "id": "ba89409c-64b7-4168-a8ef-bdf8fc7dd4cb",
   "metadata": {
    "colab": {
     "base_uri": "https://localhost:8080/"
    },
    "id": "ba89409c-64b7-4168-a8ef-bdf8fc7dd4cb",
    "outputId": "33714017-600b-4479-a913-f8d21155ef97"
   },
   "outputs": [],
   "source": [
    "len(dataset)"
   ]
  },
  {
   "cell_type": "code",
   "execution_count": null,
   "id": "99fd3d37-0096-4df1-af57-6789ff88aff1",
   "metadata": {
    "colab": {
     "base_uri": "https://localhost:8080/",
     "height": 771
    },
    "id": "99fd3d37-0096-4df1-af57-6789ff88aff1",
    "outputId": "abb24413-f92b-4c72-e389-838f34828226"
   },
   "outputs": [],
   "source": [
    "plt.figure(figsize=(10, 10))\n",
    "for image_batch, label_batch in dataset.take(1):\n",
    "    for i in range(12):\n",
    "       ax = plt.subplot(3,4,i+1)\n",
    "       plt.imshow(image_batch[i].numpy().astype(\"uint8\"))\n",
    "       plt.title(class_names[label_batch[i]])\n",
    "       plt.axis(\"off\")"
   ]
  },
  {
   "cell_type": "code",
   "execution_count": null,
   "id": "52287ed9-8ee4-4c88-9182-9879d56755b2",
   "metadata": {
    "colab": {
     "base_uri": "https://localhost:8080/"
    },
    "id": "52287ed9-8ee4-4c88-9182-9879d56755b2",
    "outputId": "9379dd30-a147-4096-ed36-928d02cb5dea"
   },
   "outputs": [],
   "source": [
    "len(dataset)"
   ]
  },
  {
   "cell_type": "code",
   "execution_count": null,
   "id": "4bba0518-14c3-449d-a457-db28f250409f",
   "metadata": {
    "id": "4bba0518-14c3-449d-a457-db28f250409f"
   },
   "outputs": [],
   "source": [
    "##80% ==> training\n",
    "##20% ==> 10% validation, 10% test"
   ]
  },
  {
   "cell_type": "code",
   "execution_count": null,
   "id": "24813d37-ef6e-49e8-b96e-d66495fc12b4",
   "metadata": {
    "colab": {
     "base_uri": "https://localhost:8080/"
    },
    "id": "24813d37-ef6e-49e8-b96e-d66495fc12b4",
    "outputId": "14739c15-fb45-4a74-bc19-5a3c3886c70d"
   },
   "outputs": [],
   "source": [
    "train_size = 0.8\n",
    "len(dataset)*train_size"
   ]
  },
  {
   "cell_type": "code",
   "execution_count": null,
   "id": "0bcbfc10-b266-4630-a396-f1cb6577cb25",
   "metadata": {
    "colab": {
     "base_uri": "https://localhost:8080/"
    },
    "id": "0bcbfc10-b266-4630-a396-f1cb6577cb25",
    "outputId": "918d0a81-54f0-4b6f-cfec-4264d7035cca"
   },
   "outputs": [],
   "source": [
    "train_ds= dataset.take(10)\n",
    "len(train_ds)"
   ]
  },
  {
   "cell_type": "code",
   "execution_count": null,
   "id": "adac1a9b-4ad4-40f7-906e-fc0e46a424ea",
   "metadata": {
    "colab": {
     "base_uri": "https://localhost:8080/"
    },
    "id": "adac1a9b-4ad4-40f7-906e-fc0e46a424ea",
    "outputId": "3d41a5c0-d87f-40fa-96d4-13f13e2e55e5"
   },
   "outputs": [],
   "source": [
    "test_ds = dataset.skip(10)\n",
    "len(test_ds)"
   ]
  },
  {
   "cell_type": "code",
   "execution_count": null,
   "id": "9eda5788-5b06-478e-a9d5-9b8a85db103f",
   "metadata": {
    "colab": {
     "base_uri": "https://localhost:8080/"
    },
    "id": "9eda5788-5b06-478e-a9d5-9b8a85db103f",
    "outputId": "bb2bc43f-0549-4dee-82d7-5d3c4af1e368"
   },
   "outputs": [],
   "source": [
    "val_size=0.1\n",
    "len(dataset)*val_size"
   ]
  },
  {
   "cell_type": "code",
   "execution_count": null,
   "id": "846aa67f-c6d6-4603-9655-e2a0c24a4db1",
   "metadata": {
    "colab": {
     "base_uri": "https://localhost:8080/"
    },
    "id": "846aa67f-c6d6-4603-9655-e2a0c24a4db1",
    "outputId": "5257825d-5b28-4494-947d-a1a87e4bf273"
   },
   "outputs": [],
   "source": [
    "val_ds= test_ds.take(7)\n",
    "len(test_ds)"
   ]
  },
  {
   "cell_type": "code",
   "execution_count": null,
   "id": "4de51741-4079-41ec-a602-7b936c47891d",
   "metadata": {
    "colab": {
     "base_uri": "https://localhost:8080/"
    },
    "id": "4de51741-4079-41ec-a602-7b936c47891d",
    "outputId": "6b838b6c-8523-400e-8b0e-dc36e410c93a"
   },
   "outputs": [],
   "source": [
    "test_ds = dataset.skip(3)\n",
    "len(test_ds)"
   ]
  },
  {
   "cell_type": "code",
   "execution_count": null,
   "id": "9b79b93a-2907-4251-9029-7bf8b2616018",
   "metadata": {
    "id": "9b79b93a-2907-4251-9029-7bf8b2616018"
   },
   "outputs": [],
   "source": [
    "def get_dataset_partitions_tf(ds, train_split=0.8, val_split=0.1, test_split = 0.1, shuffle=True, shuffle_size=1000):\n",
    "    ds_size = len(ds)\n",
    "\n",
    "    if shuffle:\n",
    "        ds = ds.shuffle(shuffle_size,seed=12)\n",
    "\n",
    "    train_size = int(train_split * ds_size)\n",
    "    val_size = int(val_split * ds_size)\n",
    "\n",
    "    train_ds = ds.take(train_size)\n",
    "\n",
    "    val_ds = ds.skip(train_size).take(val_size)\n",
    "    test_ds = ds.skip(train_size).skip(val_size)\n",
    "\n",
    "    return train_ds, val_ds, test_ds"
   ]
  },
  {
   "cell_type": "code",
   "execution_count": null,
   "id": "91d6dd16-11b7-418c-9811-96bbd1137065",
   "metadata": {
    "id": "91d6dd16-11b7-418c-9811-96bbd1137065"
   },
   "outputs": [],
   "source": [
    "train_ds, val_ds, test_ds = get_dataset_partitions_tf(dataset)"
   ]
  },
  {
   "cell_type": "code",
   "execution_count": null,
   "id": "7371c4a5-9813-4e1e-8951-7a77971b3160",
   "metadata": {
    "colab": {
     "base_uri": "https://localhost:8080/"
    },
    "id": "7371c4a5-9813-4e1e-8951-7a77971b3160",
    "outputId": "c66a5025-f3b7-4ca2-db72-b8352cc1b0fa"
   },
   "outputs": [],
   "source": [
    "len(train_ds)"
   ]
  },
  {
   "cell_type": "code",
   "execution_count": null,
   "id": "cadf801d-2dea-4c8f-b308-27dcd052bc88",
   "metadata": {
    "colab": {
     "base_uri": "https://localhost:8080/"
    },
    "id": "cadf801d-2dea-4c8f-b308-27dcd052bc88",
    "outputId": "da99d4c3-cd6f-4923-b138-b5b6e6c3e4f1"
   },
   "outputs": [],
   "source": [
    "len(val_ds)"
   ]
  },
  {
   "cell_type": "code",
   "execution_count": null,
   "id": "5c03e041-f482-43da-9b28-e043564a3ec5",
   "metadata": {
    "colab": {
     "base_uri": "https://localhost:8080/"
    },
    "id": "5c03e041-f482-43da-9b28-e043564a3ec5",
    "outputId": "868f1bc7-e33d-4567-cbb5-55f908dc768a"
   },
   "outputs": [],
   "source": [
    "len(test_ds)"
   ]
  },
  {
   "cell_type": "code",
   "execution_count": null,
   "id": "87122c2a-209a-44e7-8628-6e161ff79469",
   "metadata": {
    "id": "87122c2a-209a-44e7-8628-6e161ff79469"
   },
   "outputs": [],
   "source": [
    "train_ds = train_ds.cache().shuffle(1000).prefetch(buffer_size=tf.data.AUTOTUNE)\n",
    "val_ds = val_ds.cache().shuffle(1000).prefetch(buffer_size=tf.data.AUTOTUNE)\n",
    "test_ds = test_ds.cache().shuffle(1000).prefetch(buffer_size=tf.data.AUTOTUNE)"
   ]
  },
  {
   "cell_type": "code",
   "execution_count": null,
   "id": "ed29ec4c-6d4d-4e91-ae8e-a48f01d84b89",
   "metadata": {
    "id": "ed29ec4c-6d4d-4e91-ae8e-a48f01d84b89"
   },
   "outputs": [],
   "source": [
    "resize_and_rescale = tf.keras.Sequential([\n",
    "    layers.experimental.preprocessing.Resizing(IMAGE_SIZE, IMAGE_SIZE),\n",
    "    layers.experimental.preprocessing.Rescaling(1.0/255)\n",
    "    ])"
   ]
  },
  {
   "cell_type": "code",
   "execution_count": null,
   "id": "430fc982-fb18-4ee7-b48b-f261b204a9c2",
   "metadata": {
    "id": "430fc982-fb18-4ee7-b48b-f261b204a9c2"
   },
   "outputs": [],
   "source": [
    "data_augmentation= tf.keras.Sequential([\n",
    "    layers.experimental.preprocessing.RandomFlip(\"horizontal_and_vertical\"),\n",
    "    layers.experimental.preprocessing.RandomRotation(0.2)\n",
    "])"
   ]
  },
  {
   "cell_type": "code",
   "execution_count": null,
   "id": "a3060d93-a591-44ce-8037-cf283f178df6",
   "metadata": {
    "colab": {
     "base_uri": "https://localhost:8080/"
    },
    "id": "a3060d93-a591-44ce-8037-cf283f178df6",
    "outputId": "5b55e3b6-a543-4354-a5bb-b0c542e37b75"
   },
   "outputs": [],
   "source": [
    "from tensorflow.keras import layers, models\n",
    "\n",
    "input_shape = (128, 128, 3)  # Adjusted input shape assuming 128x128 RGB images\n",
    "n_classes = 5\n",
    "\n",
    "model = models.Sequential([\n",
    "    layers.Conv2D(32, (3, 3), activation='relu', padding='same', input_shape=input_shape),\n",
    "    layers.MaxPooling2D((2, 2)),\n",
    "    layers.Conv2D(64, kernel_size=(3, 3), activation='relu', padding='same'),\n",
    "    layers.MaxPooling2D((2, 2)),\n",
    "    layers.Conv2D(128, kernel_size=(3, 3), activation='relu', padding='same'),  # Additional Conv2D layer\n",
    "    layers.MaxPooling2D((2, 2)),\n",
    "    layers.Conv2D(128, kernel_size=(3, 3), activation='relu', padding='same'),  # Additional Conv2D layer\n",
    "    layers.MaxPooling2D((2, 2)),\n",
    "    layers.Flatten(),\n",
    "    layers.Dense(128, activation='relu'),  # Additional Dense layer\n",
    "    layers.Dense(64, activation='relu'),\n",
    "    layers.Dense(n_classes, activation='sigmoid')\n",
    "])\n",
    "\n",
    "# Compile the model\n",
    "model.compile(optimizer='adam', loss='binary_crossentropy', metrics=['accuracy'])\n",
    "\n",
    "# Display model summary\n",
    "model.summary()\n"
   ]
  },
  {
   "cell_type": "code",
   "execution_count": null,
   "id": "151fef07-89da-422b-a205-b05d0d21f08a",
   "metadata": {
    "colab": {
     "base_uri": "https://localhost:8080/"
    },
    "id": "151fef07-89da-422b-a205-b05d0d21f08a",
    "outputId": "e1fce3b0-b2ea-440e-d4ab-cdead8595bf4"
   },
   "outputs": [],
   "source": [
    "model.summary()"
   ]
  },
  {
   "cell_type": "code",
   "execution_count": null,
   "id": "ecc65ef8-4e2f-44fd-8946-c800bced6a50",
   "metadata": {
    "id": "ecc65ef8-4e2f-44fd-8946-c800bced6a50"
   },
   "outputs": [],
   "source": [
    "model.compile(\n",
    "    optimizer= 'adam',\n",
    "    loss=tf.keras.losses.SparseCategoricalCrossentropy(from_logits=False),\n",
    "    metrics=['accuracy']\n",
    ")"
   ]
  },
  {
   "cell_type": "code",
   "execution_count": null,
   "id": "99e01fcb-2cde-48e7-bf10-a159af2be1b4",
   "metadata": {
    "colab": {
     "base_uri": "https://localhost:8080/"
    },
    "id": "99e01fcb-2cde-48e7-bf10-a159af2be1b4",
    "outputId": "d74c9cea-0291-4bc0-fd0e-3af16a4d5bbd"
   },
   "outputs": [],
   "source": [
    "history = model.fit(\n",
    "    train_ds,\n",
    "    epochs=EPOCHS,\n",
    "    batch_size=BATCH_SIZE,\n",
    "    verbose=2,\n",
    "    validation_data=val_ds\n",
    ")"
   ]
  },
  {
   "cell_type": "code",
   "execution_count": null,
   "id": "56e2579a-af6c-41a9-a242-202c84e031bd",
   "metadata": {
    "colab": {
     "base_uri": "https://localhost:8080/"
    },
    "id": "56e2579a-af6c-41a9-a242-202c84e031bd",
    "outputId": "4ab2b9da-96fc-4d3f-f1db-486c9015f47f"
   },
   "outputs": [],
   "source": [
    "scores = model.evaluate(test_ds)"
   ]
  },
  {
   "cell_type": "code",
   "execution_count": null,
   "id": "165348a3-627a-497e-a58b-79a51d53a36a",
   "metadata": {
    "colab": {
     "base_uri": "https://localhost:8080/"
    },
    "id": "165348a3-627a-497e-a58b-79a51d53a36a",
    "outputId": "f406bac1-a5b5-42ed-adb3-bf11fd141d3d"
   },
   "outputs": [],
   "source": [
    "scores"
   ]
  },
  {
   "cell_type": "code",
   "execution_count": null,
   "id": "f3b3dae1-8eec-4a7f-9761-f2d36e7f6556",
   "metadata": {
    "colab": {
     "base_uri": "https://localhost:8080/"
    },
    "id": "f3b3dae1-8eec-4a7f-9761-f2d36e7f6556",
    "outputId": "7c90a4ee-f3e3-46ea-fb37-6279aacad15a"
   },
   "outputs": [],
   "source": [
    "history"
   ]
  },
  {
   "cell_type": "code",
   "execution_count": null,
   "id": "e1736d37-e2e8-48a3-b7e8-d7b540a8f4e8",
   "metadata": {
    "colab": {
     "base_uri": "https://localhost:8080/"
    },
    "id": "e1736d37-e2e8-48a3-b7e8-d7b540a8f4e8",
    "outputId": "f0c821c8-8886-4138-f61f-e0e00c22ffdf"
   },
   "outputs": [],
   "source": [
    "history.params"
   ]
  },
  {
   "cell_type": "code",
   "execution_count": null,
   "id": "a13b9360-0ac8-4f25-a7df-d31a768c5546",
   "metadata": {
    "colab": {
     "base_uri": "https://localhost:8080/"
    },
    "id": "a13b9360-0ac8-4f25-a7df-d31a768c5546",
    "outputId": "75eb6749-7081-426a-d1db-2e51d200a695"
   },
   "outputs": [],
   "source": [
    "history.history.keys()"
   ]
  },
  {
   "cell_type": "code",
   "execution_count": null,
   "id": "aee2d9e2-25fa-49de-9203-0de01e3eb50a",
   "metadata": {
    "colab": {
     "base_uri": "https://localhost:8080/"
    },
    "id": "aee2d9e2-25fa-49de-9203-0de01e3eb50a",
    "outputId": "37b8269c-0444-4ca2-9070-bca17c486aea"
   },
   "outputs": [],
   "source": [
    "history.history['accuracy']"
   ]
  },
  {
   "cell_type": "code",
   "execution_count": null,
   "id": "1de44672-1838-408e-b289-b5257c82be3b",
   "metadata": {
    "id": "1de44672-1838-408e-b289-b5257c82be3b"
   },
   "outputs": [],
   "source": [
    "acc = history.history['accuracy']\n",
    "val_acc = history.history['val_accuracy']\n",
    "\n",
    "loss = history.history['loss']\n",
    "val_loss = history.history['val_loss']"
   ]
  },
  {
   "cell_type": "code",
   "execution_count": null,
   "id": "v_geFzaq-8Kn",
   "metadata": {
    "id": "v_geFzaq-8Kn"
   },
   "outputs": [],
   "source": [
    "import matplotlib.pyplot as plt\n",
    "\n",
    "# Example data (replace these with your actual data)\n",
    "epochs = range(50)  # Assuming 50 epochs\n",
    "\n",
    "# Example accuracy and loss values for demonstration (replace these with your actual data)\n",
    "train_accuracy = [0.5, 0.6, 0.7, 0.75, 0.8, 0.85, 0.9, 0.92, 0.93, 0.94,\n",
    "                  0.945, 0.95, 0.952, 0.955, 0.957, 0.959, 0.961, 0.963,\n",
    "                  0.965, 0.966, 0.967, 0.968, 0.969, 0.97, 0.971, 0.972,\n",
    "                  0.973, 0.974, 0.975, 0.976, 0.977, 0.978, 0.979, 0.98,\n",
    "                  0.981, 0.982, 0.983, 0.984, 0.985, 0.986, 0.987, 0.988,\n",
    "                  0.989, 0.99, 0.991, 0.992, 0.993, 0.994, 0.995, 0.996]  # Training accuracy values for each epoch (should have 50 elements)\n",
    "\n",
    "val_accuracy = [0.4, 0.55, 0.65, 0.7, 0.72, 0.74, 0.75, 0.76, 0.77, 0.775,\n",
    "                0.78, 0.782, 0.784, 0.786, 0.788, 0.79, 0.791, 0.792,\n",
    "                0.793, 0.794, 0.795, 0.796, 0.797, 0.798, 0.799, 0.8,\n",
    "                0.801, 0.802, 0.803, 0.804, 0.805, 0.806, 0.807, 0.808,\n",
    "                0.809, 0.81, 0.811, 0.812, 0.813, 0.814, 0.815, 0.816,\n",
    "                0.817, 0.818, 0.819, 0.82, 0.821, 0.822, 0.823, 0.824,\n",
    "                0.825, 0.826]  # Validation accuracy values for each epoch (should have 50 elements)\n",
    "\n",
    "train_loss = [1.2, 0.9, 0.7, 0.6, 0.55, 0.52, 0.5, 0.48, 0.45, 0.43,\n",
    "              0.42, 0.41, 0.4, 0.39, 0.38, 0.37, 0.36, 0.35, 0.34,\n",
    "              0.33, 0.32, 0.31, 0.3, 0.29, 0.28, 0.27, 0.26, 0.25,\n",
    "              0.24, 0.23, 0.22, 0.21, 0.2, 0.19, 0.18, 0.17, 0.16,\n",
    "              0.15, 0.14, 0.13, 0.12, 0.11, 0.1, 0.09, 0.08, 0.07,\n",
    "              0.06, 0.05, 0.04, 0.03, 0.02, 0.01]  # Training loss values for each epoch (should have 50 elements)\n",
    "\n",
    "val_loss = [1.5, 1.0, 0.8, 0.7, 0.65, 0.62, 0.6, 0.58, 0.55, 0.53,\n",
    "            0.52, 0.51, 0.5, 0.49, 0.48, 0.47, 0.46, 0.45, 0.44,\n",
    "            0.43, 0.42, 0.41, 0.4, 0.39, 0.38, 0.37, 0.36, 0.35,\n",
    "            0.34, 0.33, 0.32, 0.31, 0.3, 0.29, 0.28, 0.27, 0.26,\n",
    "            0.25, 0.24, 0.23, 0.22, 0.21, 0.2, 0.19, 0.18, 0.17,\n",
    "            0.16]\n"
   ]
  },
  {
   "cell_type": "code",
   "execution_count": null,
   "id": "8849f39b-84a0-43f1-9d03-c5480c6ad244",
   "metadata": {
    "colab": {
     "base_uri": "https://localhost:8080/"
    },
    "id": "8849f39b-84a0-43f1-9d03-c5480c6ad244",
    "outputId": "567022e7-f57e-4146-a427-d952ae0e33d5"
   },
   "outputs": [],
   "source": [
    "import matplotlib.pyplot as plt\n",
    "\n",
    "# Example data (replace these with your actual data)\n",
    "epochs = range(50)  # Assuming 50 epochs\n",
    "\n",
    "# Training accuracy and validation accuracy arrays (should have 50 elements each)\n",
    "train_accuracy = [...]  # Training accuracy values for each epoch\n",
    "val_accuracy = [...]    # Validation accuracy values for each epoch\n",
    "\n",
    "# Training loss and validation loss arrays (should have 50 elements each)\n",
    "train_loss = [...]  # Training loss values for each epoch\n",
    "val_loss = [...]    # Validation loss values for each epoch\n",
    "\n",
    "# Plotting Training and Validation Accuracy\n",
    "plt.figure(figsize=(12, 6))\n",
    "\n",
    "plt.subplot(1, 2, 1)\n",
    "plt.plot(epochs, train_accuracy, label='Training Accuracy')\n",
    "plt.plot(epochs, val_accuracy, label='Validation Accuracy')\n",
    "plt.legend(loc='lower right')\n",
    "plt.title('Training and Validation Accuracy')\n",
    "plt.xlabel('Epochs')\n",
    "plt.ylabel('Accuracy')\n",
    "\n",
    "# Plotting Training and Validation Loss\n",
    "plt.subplot(1, 2, 2)\n",
    "plt.plot(epochs, train_loss, label='Training Loss')\n",
    "plt.plot(epochs, val_loss, label='Validation Loss')\n",
    "plt.legend(loc='upper right')\n",
    "plt.title('Training and Validation Loss')\n",
    "plt.xlabel('Epochs')\n",
    "plt.ylabel('Loss')\n",
    "\n",
    "plt.tight_layout()\n",
    "plt.show()\n"
   ]
  },
  {
   "cell_type": "code",
   "execution_count": null,
   "id": "004ccb17-669f-4374-a087-d5f57d829faa",
   "metadata": {
    "id": "004ccb17-669f-4374-a087-d5f57d829faa"
   },
   "outputs": [],
   "source": [
    "import matplotlib.pyplot as plt\n",
    "import numpy as np\n",
    "\n",
    "for images_batch, labels_batch in test_ds.take(1):\n",
    "    first_image = images_batch[0].numpy().astype('uint8')  # Corrected the typo in 'uint8'\n",
    "    first_label = labels_batch[0].numpy()\n",
    "\n",
    "    print(\"First image to predict:\")\n",
    "    plt.imshow(first_image)\n",
    "    plt.show()\n",
    "    print(\"First image's actual label:\", class_names[first_label])\n",
    "\n",
    "    batch_prediction = model.predict(images_batch)\n",
    "    print(\"Predicted label:\", class_names[np.argmax(batch_prediction[0])])\n"
   ]
  },
  {
   "cell_type": "code",
   "execution_count": null,
   "id": "dca6324b-814f-49c4-be48-30e21bd9f00c",
   "metadata": {
    "id": "dca6324b-814f-49c4-be48-30e21bd9f00c"
   },
   "outputs": [],
   "source": [
    "def predict(model, img):\n",
    "    img_array = tf.keras.preprocessing.image.img_to_array(images[i].numpy())\n",
    "    img_array = tf.expand_dims(img_array,0) # Create a batch\n",
    "\n",
    "    predictions = model.predict(img_array)\n",
    "\n",
    "    predicted_class = class_names[np.argmax(predictions[0])]\n",
    "    confidence = round(100 * (np.max(predictions[0])), 2)\n",
    "    return predicted_class, confidence"
   ]
  },
  {
   "cell_type": "code",
   "execution_count": null,
   "id": "3d41a090-9e48-4ad2-8662-ca7ed09ebfed",
   "metadata": {
    "id": "3d41a090-9e48-4ad2-8662-ca7ed09ebfed"
   },
   "outputs": [],
   "source": [
    "plt.figure(figsize=(15, 15))\n",
    "for images, labels in test_ds.take(1):\n",
    "    for i in range(9):\n",
    "        ax = plt.subplot(3, 3, i+1)\n",
    "        plt.imshow(images[i].numpy().astype(\"uint8\"))\n",
    "\n",
    "        predicted_class, confidence = predict(model, images[i].numpy())\n",
    "        actual_class = class_names[labels[i]]\n",
    "\n",
    "        plt.title(f\"Actual: {actual_class}, Predicted: {predicted_class}, Confidence: {confidence:.2f}%\")\n",
    "\n",
    "        plt.axis(\"off\")\n",
    "\n",
    "plt.tight_layout()\n",
    "plt.show()\n"
   ]
  },
  {
   "cell_type": "code",
   "execution_count": null,
   "id": "3eb9d718-53ac-4f68-ac21-c5b4b1657dfe",
   "metadata": {
    "id": "3eb9d718-53ac-4f68-ac21-c5b4b1657dfe"
   },
   "outputs": [],
   "source": [
    "model_version=1\n",
    "model.save(f\"../models/{model_version}\")"
   ]
  },
  {
   "cell_type": "code",
   "execution_count": null,
   "id": "66a12fcd-396c-47ac-b9be-bf9912dbe6f9",
   "metadata": {
    "id": "66a12fcd-396c-47ac-b9be-bf9912dbe6f9"
   },
   "outputs": [],
   "source": [
    "#string to imnteger\n",
    "import os\n",
    "model_version=max([int(i) for i in os.listdir(\"../models\") + [0]]) + 1\n",
    "model.save(f\"../models/{model_version}\")"
   ]
  },
  {
   "cell_type": "code",
   "execution_count": null,
   "id": "9eba93c6-6f39-4a20-9027-57d0d6d62343",
   "metadata": {
    "id": "9eba93c6-6f39-4a20-9027-57d0d6d62343"
   },
   "outputs": [],
   "source": []
  }
 ],
 "metadata": {
  "colab": {
   "provenance": []
  },
  "kernelspec": {
   "display_name": "Python 3 (ipykernel)",
   "language": "python",
   "name": "python3"
  },
  "language_info": {
   "codemirror_mode": {
    "name": "ipython",
    "version": 3
   },
   "file_extension": ".py",
   "mimetype": "text/x-python",
   "name": "python",
   "nbconvert_exporter": "python",
   "pygments_lexer": "ipython3",
   "version": "3.10.13"
  }
 },
 "nbformat": 4,
 "nbformat_minor": 5
}
